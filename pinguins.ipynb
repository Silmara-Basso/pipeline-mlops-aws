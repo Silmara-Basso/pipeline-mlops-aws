{
 "cells": [
  {
   "cell_type": "markdown",
   "metadata": {
    "id": "CDDX7MeZKg3t"
   },
   "source": [
    "<!-- Desenvolvido por Silmara Basso- silmarabasso@yahoo.com.br -->\n",
    "# <font color='blue'>Classificação de animais</font>\n",
    "# Pinguins.\n",
    " <font color='blue'>Deploy com SageMaker, Lambda e API Gateway</font>\n"
   ]
  },
  {
   "cell_type": "code",
   "execution_count": 1,
   "metadata": {
    "execution": {
     "iopub.execute_input": "2025-07-30T22:49:54.167544Z",
     "iopub.status.busy": "2025-07-30T22:49:54.167027Z",
     "iopub.status.idle": "2025-07-30T22:49:56.976430Z",
     "shell.execute_reply": "2025-07-30T22:49:56.975763Z",
     "shell.execute_reply.started": "2025-07-30T22:49:54.167521Z"
    }
   },
   "outputs": [
    {
     "name": "stdout",
     "output_type": "stream",
     "text": [
      "sagemaker.config INFO - Not applying SDK defaults from location: /etc/xdg/sagemaker/config.yaml\n",
      "sagemaker.config INFO - Not applying SDK defaults from location: /home/sagemaker-user/.config/sagemaker/config.yaml\n"
     ]
    }
   ],
   "source": [
    "# Imports\n",
    "import os\n",
    "import boto3\n",
    "import pandas as pd\n",
    "import sagemaker\n",
    "from sagemaker import get_execution_role\n",
    "from sagemaker.inputs import TrainingInput\n",
    "from sklearn.model_selection import train_test_split\n",
    "import warnings\n",
    "warnings.filterwarnings('ignore')"
   ]
  },
  {
   "cell_type": "markdown",
   "metadata": {},
   "source": [
    "## Configurações Iniciais no SageMaker"
   ]
  },
  {
   "cell_type": "code",
   "execution_count": 2,
   "metadata": {
    "execution": {
     "iopub.execute_input": "2025-07-30T22:50:02.667579Z",
     "iopub.status.busy": "2025-07-30T22:50:02.667034Z",
     "iopub.status.idle": "2025-07-30T22:50:02.683679Z",
     "shell.execute_reply": "2025-07-30T22:50:02.682977Z",
     "shell.execute_reply.started": "2025-07-30T22:50:02.667550Z"
    }
   },
   "outputs": [
    {
     "name": "stdout",
     "output_type": "stream",
     "text": [
      "us-east-2\n"
     ]
    }
   ],
   "source": [
    "# Define a região\n",
    "aws_region = boto3.Session().region_name\n",
    "print(aws_region)"
   ]
  },
  {
   "cell_type": "code",
   "execution_count": 3,
   "metadata": {
    "execution": {
     "iopub.execute_input": "2025-07-30T22:50:03.911575Z",
     "iopub.status.busy": "2025-07-30T22:50:03.910730Z",
     "iopub.status.idle": "2025-07-30T22:50:04.240707Z",
     "shell.execute_reply": "2025-07-30T22:50:04.240019Z",
     "shell.execute_reply.started": "2025-07-30T22:50:03.911544Z"
    }
   },
   "outputs": [
    {
     "name": "stdout",
     "output_type": "stream",
     "text": [
      "arn:aws:iam::626216981464:role/service-role/AmazonSageMaker-ExecutionRole-20250730T193400\n"
     ]
    }
   ],
   "source": [
    "# Define a role\n",
    "aws_role = get_execution_role()\n",
    "print(aws_role)"
   ]
  },
  {
   "cell_type": "code",
   "execution_count": 4,
   "metadata": {
    "execution": {
     "iopub.execute_input": "2025-07-30T22:50:05.419030Z",
     "iopub.status.busy": "2025-07-30T22:50:05.418736Z",
     "iopub.status.idle": "2025-07-30T22:50:05.576480Z",
     "shell.execute_reply": "2025-07-30T22:50:05.575691Z",
     "shell.execute_reply.started": "2025-07-30T22:50:05.419007Z"
    }
   },
   "outputs": [
    {
     "name": "stdout",
     "output_type": "stream",
     "text": [
      "<sagemaker.session.Session object at 0x7f61baf38950>\n"
     ]
    }
   ],
   "source": [
    "# Cria sessão SageMaker\n",
    "aws_session = sagemaker.Session()\n",
    "print(aws_session)"
   ]
  },
  {
   "cell_type": "markdown",
   "metadata": {},
   "source": [
    "## Carregando os Dados"
   ]
  },
  {
   "cell_type": "code",
   "execution_count": 5,
   "metadata": {
    "execution": {
     "iopub.execute_input": "2025-07-30T22:50:11.773851Z",
     "iopub.status.busy": "2025-07-30T22:50:11.773182Z",
     "iopub.status.idle": "2025-07-30T22:50:11.847825Z",
     "shell.execute_reply": "2025-07-30T22:50:11.846044Z",
     "shell.execute_reply.started": "2025-07-30T22:50:11.773822Z"
    }
   },
   "outputs": [],
   "source": [
    "# Cria o cliente s3\n",
    "s3 = boto3.client(\"s3\")"
   ]
  },
  {
   "cell_type": "code",
   "execution_count": null,
   "metadata": {
    "execution": {
     "iopub.execute_input": "2025-07-30T22:50:14.885817Z",
     "iopub.status.busy": "2025-07-30T22:50:14.885455Z",
     "iopub.status.idle": "2025-07-30T22:50:15.568646Z",
     "shell.execute_reply": "2025-07-30T22:50:15.567494Z",
     "shell.execute_reply.started": "2025-07-30T22:50:14.885792Z"
    }
   },
   "outputs": [],
   "source": [
    "# Download do arquivo do bucket para o ambiente local do SageMaker\n",
    "s3.download_file(f\"pinguins-890582101704\", \"dataset.csv\", \"dados_originais.csv\")"
   ]
  },
  {
   "cell_type": "code",
   "execution_count": null,
   "metadata": {
    "execution": {
     "iopub.execute_input": "2025-07-30T22:58:55.011740Z",
     "iopub.status.busy": "2025-07-30T22:58:55.011050Z",
     "iopub.status.idle": "2025-07-30T22:58:55.027042Z",
     "shell.execute_reply": "2025-07-30T22:58:55.026334Z",
     "shell.execute_reply.started": "2025-07-30T22:58:55.011712Z"
    }
   },
   "outputs": [],
   "source": [
    "# Carrega o arquivo como dataframe do pandas\n",
    "df_pinguins = pd.read_csv(\"./dados_originais.csv\")"
   ]
  },
  {
   "cell_type": "markdown",
   "metadata": {},
   "source": [
    "## Exploração Inicial dos Dados"
   ]
  },
  {
   "cell_type": "code",
   "execution_count": 9,
   "metadata": {
    "execution": {
     "iopub.execute_input": "2025-07-30T22:59:01.345459Z",
     "iopub.status.busy": "2025-07-30T22:59:01.345139Z",
     "iopub.status.idle": "2025-07-30T22:59:01.365340Z",
     "shell.execute_reply": "2025-07-30T22:59:01.364146Z",
     "shell.execute_reply.started": "2025-07-30T22:59:01.345437Z"
    }
   },
   "outputs": [
    {
     "data": {
      "text/html": [
       "<div>\n",
       "<style scoped>\n",
       "    .dataframe tbody tr th:only-of-type {\n",
       "        vertical-align: middle;\n",
       "    }\n",
       "\n",
       "    .dataframe tbody tr th {\n",
       "        vertical-align: top;\n",
       "    }\n",
       "\n",
       "    .dataframe thead th {\n",
       "        text-align: right;\n",
       "    }\n",
       "</style>\n",
       "<table border=\"1\" class=\"dataframe\">\n",
       "  <thead>\n",
       "    <tr style=\"text-align: right;\">\n",
       "      <th></th>\n",
       "      <th>id</th>\n",
       "      <th>species</th>\n",
       "      <th>island</th>\n",
       "      <th>bill_length_mm</th>\n",
       "      <th>bill_depth_mm</th>\n",
       "      <th>flipper_length_mm</th>\n",
       "      <th>body_mass_g</th>\n",
       "      <th>sex</th>\n",
       "      <th>year</th>\n",
       "    </tr>\n",
       "  </thead>\n",
       "  <tbody>\n",
       "    <tr>\n",
       "      <th>0</th>\n",
       "      <td>0</td>\n",
       "      <td>Adelie</td>\n",
       "      <td>Torgersen</td>\n",
       "      <td>39.1</td>\n",
       "      <td>18.7</td>\n",
       "      <td>181.0</td>\n",
       "      <td>3750.0</td>\n",
       "      <td>male</td>\n",
       "      <td>2007</td>\n",
       "    </tr>\n",
       "    <tr>\n",
       "      <th>1</th>\n",
       "      <td>1</td>\n",
       "      <td>Adelie</td>\n",
       "      <td>Torgersen</td>\n",
       "      <td>39.5</td>\n",
       "      <td>17.4</td>\n",
       "      <td>186.0</td>\n",
       "      <td>3800.0</td>\n",
       "      <td>female</td>\n",
       "      <td>2007</td>\n",
       "    </tr>\n",
       "    <tr>\n",
       "      <th>2</th>\n",
       "      <td>2</td>\n",
       "      <td>Adelie</td>\n",
       "      <td>Torgersen</td>\n",
       "      <td>40.3</td>\n",
       "      <td>18.0</td>\n",
       "      <td>195.0</td>\n",
       "      <td>3250.0</td>\n",
       "      <td>female</td>\n",
       "      <td>2007</td>\n",
       "    </tr>\n",
       "    <tr>\n",
       "      <th>3</th>\n",
       "      <td>3</td>\n",
       "      <td>Adelie</td>\n",
       "      <td>Torgersen</td>\n",
       "      <td>NaN</td>\n",
       "      <td>NaN</td>\n",
       "      <td>NaN</td>\n",
       "      <td>NaN</td>\n",
       "      <td>NaN</td>\n",
       "      <td>2007</td>\n",
       "    </tr>\n",
       "    <tr>\n",
       "      <th>4</th>\n",
       "      <td>4</td>\n",
       "      <td>Adelie</td>\n",
       "      <td>Torgersen</td>\n",
       "      <td>36.7</td>\n",
       "      <td>19.3</td>\n",
       "      <td>193.0</td>\n",
       "      <td>3450.0</td>\n",
       "      <td>female</td>\n",
       "      <td>2007</td>\n",
       "    </tr>\n",
       "  </tbody>\n",
       "</table>\n",
       "</div>"
      ],
      "text/plain": [
       "   id species     island  bill_length_mm  bill_depth_mm  flipper_length_mm  \\\n",
       "0   0  Adelie  Torgersen            39.1           18.7              181.0   \n",
       "1   1  Adelie  Torgersen            39.5           17.4              186.0   \n",
       "2   2  Adelie  Torgersen            40.3           18.0              195.0   \n",
       "3   3  Adelie  Torgersen             NaN            NaN                NaN   \n",
       "4   4  Adelie  Torgersen            36.7           19.3              193.0   \n",
       "\n",
       "   body_mass_g     sex  year  \n",
       "0       3750.0    male  2007  \n",
       "1       3800.0  female  2007  \n",
       "2       3250.0  female  2007  \n",
       "3          NaN     NaN  2007  \n",
       "4       3450.0  female  2007  "
      ]
     },
     "execution_count": 9,
     "metadata": {},
     "output_type": "execute_result"
    }
   ],
   "source": [
    "# Visualiza as primeiras linhas\n",
    "df_pinguins.head()"
   ]
  },
  {
   "cell_type": "code",
   "execution_count": 10,
   "metadata": {
    "colab": {
     "base_uri": "https://localhost:8080/"
    },
    "execution": {
     "iopub.execute_input": "2025-07-30T23:01:48.046927Z",
     "iopub.status.busy": "2025-07-30T23:01:48.046113Z",
     "iopub.status.idle": "2025-07-30T23:01:48.051071Z",
     "shell.execute_reply": "2025-07-30T23:01:48.050207Z",
     "shell.execute_reply.started": "2025-07-30T23:01:48.046894Z"
    },
    "id": "T2p6pPh1wrSA",
    "outputId": "95f58728-7709-47d9-dad7-905f87a84102"
   },
   "outputs": [
    {
     "data": {
      "text/plain": [
       "(344, 9)"
      ]
     },
     "execution_count": 10,
     "metadata": {},
     "output_type": "execute_result"
    }
   ],
   "source": [
    "# Shape\n",
    "df_pinguins.shape"
   ]
  },
  {
   "cell_type": "code",
   "execution_count": 11,
   "metadata": {
    "colab": {
     "base_uri": "https://localhost:8080/",
     "height": 366
    },
    "execution": {
     "iopub.execute_input": "2025-07-30T23:01:51.061183Z",
     "iopub.status.busy": "2025-07-30T23:01:51.060667Z",
     "iopub.status.idle": "2025-07-30T23:01:51.068194Z",
     "shell.execute_reply": "2025-07-30T23:01:51.067348Z",
     "shell.execute_reply.started": "2025-07-30T23:01:51.061156Z"
    },
    "id": "4d-zpiMvxFv8",
    "outputId": "900ffbd1-97da-414b-a4af-e0d24db0dcce"
   },
   "outputs": [
    {
     "data": {
      "text/plain": [
       "id                    0\n",
       "species               0\n",
       "island                0\n",
       "bill_length_mm        2\n",
       "bill_depth_mm         2\n",
       "flipper_length_mm     2\n",
       "body_mass_g           2\n",
       "sex                  11\n",
       "year                  0\n",
       "dtype: int64"
      ]
     },
     "execution_count": 11,
     "metadata": {},
     "output_type": "execute_result"
    }
   ],
   "source": [
    "# Total de valores ausentes\n",
    "df_pinguins.isna().sum()"
   ]
  },
  {
   "cell_type": "code",
   "execution_count": 12,
   "metadata": {
    "colab": {
     "base_uri": "https://localhost:8080/"
    },
    "execution": {
     "iopub.execute_input": "2025-07-30T23:01:55.293975Z",
     "iopub.status.busy": "2025-07-30T23:01:55.293696Z",
     "iopub.status.idle": "2025-07-30T23:01:55.308155Z",
     "shell.execute_reply": "2025-07-30T23:01:55.307513Z",
     "shell.execute_reply.started": "2025-07-30T23:01:55.293954Z"
    },
    "id": "BlcvZ1oDxO4i",
    "outputId": "12da8f4f-b530-45eb-e29c-9be809829d9c"
   },
   "outputs": [
    {
     "data": {
      "text/plain": [
       "0"
      ]
     },
     "execution_count": 12,
     "metadata": {},
     "output_type": "execute_result"
    }
   ],
   "source": [
    "# Total de duplicatas (complete cases)\n",
    "df_pinguins.duplicated().sum()"
   ]
  },
  {
   "cell_type": "code",
   "execution_count": 13,
   "metadata": {
    "colab": {
     "base_uri": "https://localhost:8080/"
    },
    "execution": {
     "iopub.execute_input": "2025-07-30T23:01:59.228272Z",
     "iopub.status.busy": "2025-07-30T23:01:59.227931Z",
     "iopub.status.idle": "2025-07-30T23:01:59.246034Z",
     "shell.execute_reply": "2025-07-30T23:01:59.245058Z",
     "shell.execute_reply.started": "2025-07-30T23:01:59.228249Z"
    },
    "id": "UhG-Kmr7xs_p",
    "outputId": "870be1bf-90e2-47fe-e890-b55539219a6c"
   },
   "outputs": [
    {
     "name": "stdout",
     "output_type": "stream",
     "text": [
      "<class 'pandas.core.frame.DataFrame'>\n",
      "RangeIndex: 344 entries, 0 to 343\n",
      "Data columns (total 9 columns):\n",
      " #   Column             Non-Null Count  Dtype  \n",
      "---  ------             --------------  -----  \n",
      " 0   id                 344 non-null    int64  \n",
      " 1   species            344 non-null    object \n",
      " 2   island             344 non-null    object \n",
      " 3   bill_length_mm     342 non-null    float64\n",
      " 4   bill_depth_mm      342 non-null    float64\n",
      " 5   flipper_length_mm  342 non-null    float64\n",
      " 6   body_mass_g        342 non-null    float64\n",
      " 7   sex                333 non-null    object \n",
      " 8   year               344 non-null    int64  \n",
      "dtypes: float64(4), int64(2), object(3)\n",
      "memory usage: 24.3+ KB\n"
     ]
    }
   ],
   "source": [
    "# Info\n",
    "df_pinguins.info()"
   ]
  },
  {
   "cell_type": "code",
   "execution_count": 14,
   "metadata": {
    "colab": {
     "base_uri": "https://localhost:8080/",
     "height": 366
    },
    "execution": {
     "iopub.execute_input": "2025-07-30T23:02:28.464761Z",
     "iopub.status.busy": "2025-07-30T23:02:28.464477Z",
     "iopub.status.idle": "2025-07-30T23:02:28.473802Z",
     "shell.execute_reply": "2025-07-30T23:02:28.473087Z",
     "shell.execute_reply.started": "2025-07-30T23:02:28.464740Z"
    },
    "id": "kqq78BhrxyCO",
    "outputId": "363f7e5a-4365-4797-fe0c-a1459aef4763"
   },
   "outputs": [
    {
     "data": {
      "text/plain": [
       "id                   344\n",
       "species                3\n",
       "island                 3\n",
       "bill_length_mm       164\n",
       "bill_depth_mm         80\n",
       "flipper_length_mm     55\n",
       "body_mass_g           94\n",
       "sex                    2\n",
       "year                   3\n",
       "dtype: int64"
      ]
     },
     "execution_count": 14,
     "metadata": {},
     "output_type": "execute_result"
    }
   ],
   "source": [
    "# Total de valores únicos\n",
    "df_pinguins.nunique()"
   ]
  },
  {
   "cell_type": "code",
   "execution_count": 15,
   "metadata": {
    "colab": {
     "base_uri": "https://localhost:8080/",
     "height": 300
    },
    "execution": {
     "iopub.execute_input": "2025-07-30T23:02:30.017703Z",
     "iopub.status.busy": "2025-07-30T23:02:30.017424Z",
     "iopub.status.idle": "2025-07-30T23:02:30.039382Z",
     "shell.execute_reply": "2025-07-30T23:02:30.038649Z",
     "shell.execute_reply.started": "2025-07-30T23:02:30.017683Z"
    },
    "id": "SixBjq1px6XG",
    "outputId": "3b274676-f53e-479e-93df-da9ea008e668"
   },
   "outputs": [
    {
     "data": {
      "text/html": [
       "<div>\n",
       "<style scoped>\n",
       "    .dataframe tbody tr th:only-of-type {\n",
       "        vertical-align: middle;\n",
       "    }\n",
       "\n",
       "    .dataframe tbody tr th {\n",
       "        vertical-align: top;\n",
       "    }\n",
       "\n",
       "    .dataframe thead th {\n",
       "        text-align: right;\n",
       "    }\n",
       "</style>\n",
       "<table border=\"1\" class=\"dataframe\">\n",
       "  <thead>\n",
       "    <tr style=\"text-align: right;\">\n",
       "      <th></th>\n",
       "      <th>id</th>\n",
       "      <th>bill_length_mm</th>\n",
       "      <th>bill_depth_mm</th>\n",
       "      <th>flipper_length_mm</th>\n",
       "      <th>body_mass_g</th>\n",
       "      <th>year</th>\n",
       "    </tr>\n",
       "  </thead>\n",
       "  <tbody>\n",
       "    <tr>\n",
       "      <th>count</th>\n",
       "      <td>344.000000</td>\n",
       "      <td>342.000000</td>\n",
       "      <td>342.000000</td>\n",
       "      <td>342.000000</td>\n",
       "      <td>342.000000</td>\n",
       "      <td>344.000000</td>\n",
       "    </tr>\n",
       "    <tr>\n",
       "      <th>mean</th>\n",
       "      <td>171.500000</td>\n",
       "      <td>43.921930</td>\n",
       "      <td>17.151170</td>\n",
       "      <td>200.915205</td>\n",
       "      <td>4201.754386</td>\n",
       "      <td>2008.031977</td>\n",
       "    </tr>\n",
       "    <tr>\n",
       "      <th>std</th>\n",
       "      <td>99.448479</td>\n",
       "      <td>5.459584</td>\n",
       "      <td>1.974793</td>\n",
       "      <td>14.061714</td>\n",
       "      <td>801.954536</td>\n",
       "      <td>0.816464</td>\n",
       "    </tr>\n",
       "    <tr>\n",
       "      <th>min</th>\n",
       "      <td>0.000000</td>\n",
       "      <td>32.100000</td>\n",
       "      <td>13.100000</td>\n",
       "      <td>172.000000</td>\n",
       "      <td>2700.000000</td>\n",
       "      <td>2007.000000</td>\n",
       "    </tr>\n",
       "    <tr>\n",
       "      <th>25%</th>\n",
       "      <td>85.750000</td>\n",
       "      <td>39.225000</td>\n",
       "      <td>15.600000</td>\n",
       "      <td>190.000000</td>\n",
       "      <td>3550.000000</td>\n",
       "      <td>2007.000000</td>\n",
       "    </tr>\n",
       "    <tr>\n",
       "      <th>50%</th>\n",
       "      <td>171.500000</td>\n",
       "      <td>44.450000</td>\n",
       "      <td>17.300000</td>\n",
       "      <td>197.000000</td>\n",
       "      <td>4050.000000</td>\n",
       "      <td>2008.000000</td>\n",
       "    </tr>\n",
       "    <tr>\n",
       "      <th>75%</th>\n",
       "      <td>257.250000</td>\n",
       "      <td>48.500000</td>\n",
       "      <td>18.700000</td>\n",
       "      <td>213.000000</td>\n",
       "      <td>4750.000000</td>\n",
       "      <td>2009.000000</td>\n",
       "    </tr>\n",
       "    <tr>\n",
       "      <th>max</th>\n",
       "      <td>343.000000</td>\n",
       "      <td>59.600000</td>\n",
       "      <td>21.500000</td>\n",
       "      <td>231.000000</td>\n",
       "      <td>6300.000000</td>\n",
       "      <td>2009.000000</td>\n",
       "    </tr>\n",
       "  </tbody>\n",
       "</table>\n",
       "</div>"
      ],
      "text/plain": [
       "               id  bill_length_mm  bill_depth_mm  flipper_length_mm  \\\n",
       "count  344.000000      342.000000     342.000000         342.000000   \n",
       "mean   171.500000       43.921930      17.151170         200.915205   \n",
       "std     99.448479        5.459584       1.974793          14.061714   \n",
       "min      0.000000       32.100000      13.100000         172.000000   \n",
       "25%     85.750000       39.225000      15.600000         190.000000   \n",
       "50%    171.500000       44.450000      17.300000         197.000000   \n",
       "75%    257.250000       48.500000      18.700000         213.000000   \n",
       "max    343.000000       59.600000      21.500000         231.000000   \n",
       "\n",
       "       body_mass_g         year  \n",
       "count   342.000000   344.000000  \n",
       "mean   4201.754386  2008.031977  \n",
       "std     801.954536     0.816464  \n",
       "min    2700.000000  2007.000000  \n",
       "25%    3550.000000  2007.000000  \n",
       "50%    4050.000000  2008.000000  \n",
       "75%    4750.000000  2009.000000  \n",
       "max    6300.000000  2009.000000  "
      ]
     },
     "execution_count": 15,
     "metadata": {},
     "output_type": "execute_result"
    }
   ],
   "source": [
    "# Resumo estatístico\n",
    "df_pinguins.describe()"
   ]
  },
  {
   "cell_type": "markdown",
   "metadata": {},
   "source": [
    "## Limpeza, Codificação e Preparação dos Dados"
   ]
  },
  {
   "cell_type": "code",
   "execution_count": 16,
   "metadata": {
    "execution": {
     "iopub.execute_input": "2025-07-30T23:02:34.910140Z",
     "iopub.status.busy": "2025-07-30T23:02:34.909679Z",
     "iopub.status.idle": "2025-07-30T23:02:34.915712Z",
     "shell.execute_reply": "2025-07-30T23:02:34.914944Z",
     "shell.execute_reply.started": "2025-07-30T23:02:34.910102Z"
    }
   },
   "outputs": [
    {
     "data": {
      "text/plain": [
       "Index(['id', 'species', 'island', 'bill_length_mm', 'bill_depth_mm',\n",
       "       'flipper_length_mm', 'body_mass_g', 'sex', 'year'],\n",
       "      dtype='object')"
      ]
     },
     "execution_count": 16,
     "metadata": {},
     "output_type": "execute_result"
    }
   ],
   "source": [
    "# Colunas\n",
    "df_pinguins.columns"
   ]
  },
  {
   "cell_type": "code",
   "execution_count": 17,
   "metadata": {
    "execution": {
     "iopub.execute_input": "2025-07-30T23:02:37.043587Z",
     "iopub.status.busy": "2025-07-30T23:02:37.043161Z",
     "iopub.status.idle": "2025-07-30T23:02:37.048874Z",
     "shell.execute_reply": "2025-07-30T23:02:37.048118Z",
     "shell.execute_reply.started": "2025-07-30T23:02:37.043554Z"
    }
   },
   "outputs": [
    {
     "name": "stdout",
     "output_type": "stream",
     "text": [
      "Categorias na Variável 'species':  ['Adelie' 'Gentoo' 'Chinstrap']\n"
     ]
    }
   ],
   "source": [
    "print(\"Categorias na Variável 'species': \", df_pinguins['species'].unique())"
   ]
  },
  {
   "cell_type": "code",
   "execution_count": 18,
   "metadata": {
    "execution": {
     "iopub.execute_input": "2025-07-30T23:02:43.271077Z",
     "iopub.status.busy": "2025-07-30T23:02:43.270431Z",
     "iopub.status.idle": "2025-07-30T23:02:43.275019Z",
     "shell.execute_reply": "2025-07-30T23:02:43.274215Z",
     "shell.execute_reply.started": "2025-07-30T23:02:43.271048Z"
    }
   },
   "outputs": [
    {
     "name": "stdout",
     "output_type": "stream",
     "text": [
      "Categorias na Variável 'island':  ['Torgersen' 'Biscoe' 'Dream']\n"
     ]
    }
   ],
   "source": [
    "print(\"Categorias na Variável 'island': \", df_pinguins['island'].unique())"
   ]
  },
  {
   "cell_type": "code",
   "execution_count": 19,
   "metadata": {
    "execution": {
     "iopub.execute_input": "2025-07-30T23:04:10.765904Z",
     "iopub.status.busy": "2025-07-30T23:04:10.765531Z",
     "iopub.status.idle": "2025-07-30T23:04:10.770716Z",
     "shell.execute_reply": "2025-07-30T23:04:10.769797Z",
     "shell.execute_reply.started": "2025-07-30T23:04:10.765870Z"
    }
   },
   "outputs": [],
   "source": [
    "dados_limpos = df_pinguins.drop(columns = ['id', 'island', 'sex', 'year'])"
   ]
  },
  {
   "cell_type": "code",
   "execution_count": 20,
   "metadata": {
    "execution": {
     "iopub.execute_input": "2025-07-30T23:04:14.965488Z",
     "iopub.status.busy": "2025-07-30T23:04:14.964651Z",
     "iopub.status.idle": "2025-07-30T23:04:14.974713Z",
     "shell.execute_reply": "2025-07-30T23:04:14.973783Z",
     "shell.execute_reply.started": "2025-07-30T23:04:14.965461Z"
    }
   },
   "outputs": [
    {
     "name": "stdout",
     "output_type": "stream",
     "text": [
      "<class 'pandas.core.frame.DataFrame'>\n",
      "RangeIndex: 344 entries, 0 to 343\n",
      "Data columns (total 5 columns):\n",
      " #   Column             Non-Null Count  Dtype  \n",
      "---  ------             --------------  -----  \n",
      " 0   species            344 non-null    object \n",
      " 1   bill_length_mm     342 non-null    float64\n",
      " 2   bill_depth_mm      342 non-null    float64\n",
      " 3   flipper_length_mm  342 non-null    float64\n",
      " 4   body_mass_g        342 non-null    float64\n",
      "dtypes: float64(4), object(1)\n",
      "memory usage: 13.6+ KB\n"
     ]
    }
   ],
   "source": [
    "# Info\n",
    "dados_limpos.info()"
   ]
  },
  {
   "cell_type": "code",
   "execution_count": 21,
   "metadata": {
    "execution": {
     "iopub.execute_input": "2025-07-30T23:06:31.899844Z",
     "iopub.status.busy": "2025-07-30T23:06:31.899294Z",
     "iopub.status.idle": "2025-07-30T23:06:31.904781Z",
     "shell.execute_reply": "2025-07-30T23:06:31.904156Z",
     "shell.execute_reply.started": "2025-07-30T23:06:31.899817Z"
    }
   },
   "outputs": [],
   "source": [
    "# Vamos fazer o drop de valores ausentes\n",
    "dados_limpos = dados_limpos.dropna(subset = ['bill_length_mm'])"
   ]
  },
  {
   "cell_type": "code",
   "execution_count": 22,
   "metadata": {
    "colab": {
     "base_uri": "https://localhost:8080/",
     "height": 241
    },
    "execution": {
     "iopub.execute_input": "2025-07-30T23:06:35.674640Z",
     "iopub.status.busy": "2025-07-30T23:06:35.674268Z",
     "iopub.status.idle": "2025-07-30T23:06:35.681264Z",
     "shell.execute_reply": "2025-07-30T23:06:35.680286Z",
     "shell.execute_reply.started": "2025-07-30T23:06:35.674616Z"
    },
    "id": "X7oaz7JTzK9Q",
    "outputId": "470b6e6d-382d-40c2-d08e-7103134d8122"
   },
   "outputs": [
    {
     "data": {
      "text/plain": [
       "species              0\n",
       "bill_length_mm       0\n",
       "bill_depth_mm        0\n",
       "flipper_length_mm    0\n",
       "body_mass_g          0\n",
       "dtype: int64"
      ]
     },
     "execution_count": 22,
     "metadata": {},
     "output_type": "execute_result"
    }
   ],
   "source": [
    "dados_limpos.isna().sum()"
   ]
  },
  {
   "cell_type": "code",
   "execution_count": 23,
   "metadata": {
    "execution": {
     "iopub.execute_input": "2025-07-30T23:06:40.740456Z",
     "iopub.status.busy": "2025-07-30T23:06:40.740107Z",
     "iopub.status.idle": "2025-07-30T23:06:40.753169Z",
     "shell.execute_reply": "2025-07-30T23:06:40.752290Z",
     "shell.execute_reply.started": "2025-07-30T23:06:40.740432Z"
    }
   },
   "outputs": [
    {
     "data": {
      "text/html": [
       "<div>\n",
       "<style scoped>\n",
       "    .dataframe tbody tr th:only-of-type {\n",
       "        vertical-align: middle;\n",
       "    }\n",
       "\n",
       "    .dataframe tbody tr th {\n",
       "        vertical-align: top;\n",
       "    }\n",
       "\n",
       "    .dataframe thead th {\n",
       "        text-align: right;\n",
       "    }\n",
       "</style>\n",
       "<table border=\"1\" class=\"dataframe\">\n",
       "  <thead>\n",
       "    <tr style=\"text-align: right;\">\n",
       "      <th></th>\n",
       "      <th>species</th>\n",
       "      <th>bill_length_mm</th>\n",
       "      <th>bill_depth_mm</th>\n",
       "      <th>flipper_length_mm</th>\n",
       "      <th>body_mass_g</th>\n",
       "    </tr>\n",
       "  </thead>\n",
       "  <tbody>\n",
       "    <tr>\n",
       "      <th>0</th>\n",
       "      <td>Adelie</td>\n",
       "      <td>39.1</td>\n",
       "      <td>18.7</td>\n",
       "      <td>181.0</td>\n",
       "      <td>3750.0</td>\n",
       "    </tr>\n",
       "    <tr>\n",
       "      <th>1</th>\n",
       "      <td>Adelie</td>\n",
       "      <td>39.5</td>\n",
       "      <td>17.4</td>\n",
       "      <td>186.0</td>\n",
       "      <td>3800.0</td>\n",
       "    </tr>\n",
       "    <tr>\n",
       "      <th>2</th>\n",
       "      <td>Adelie</td>\n",
       "      <td>40.3</td>\n",
       "      <td>18.0</td>\n",
       "      <td>195.0</td>\n",
       "      <td>3250.0</td>\n",
       "    </tr>\n",
       "    <tr>\n",
       "      <th>4</th>\n",
       "      <td>Adelie</td>\n",
       "      <td>36.7</td>\n",
       "      <td>19.3</td>\n",
       "      <td>193.0</td>\n",
       "      <td>3450.0</td>\n",
       "    </tr>\n",
       "    <tr>\n",
       "      <th>5</th>\n",
       "      <td>Adelie</td>\n",
       "      <td>39.3</td>\n",
       "      <td>20.6</td>\n",
       "      <td>190.0</td>\n",
       "      <td>3650.0</td>\n",
       "    </tr>\n",
       "  </tbody>\n",
       "</table>\n",
       "</div>"
      ],
      "text/plain": [
       "  species  bill_length_mm  bill_depth_mm  flipper_length_mm  body_mass_g\n",
       "0  Adelie            39.1           18.7              181.0       3750.0\n",
       "1  Adelie            39.5           17.4              186.0       3800.0\n",
       "2  Adelie            40.3           18.0              195.0       3250.0\n",
       "4  Adelie            36.7           19.3              193.0       3450.0\n",
       "5  Adelie            39.3           20.6              190.0       3650.0"
      ]
     },
     "execution_count": 23,
     "metadata": {},
     "output_type": "execute_result"
    }
   ],
   "source": [
    "dados_limpos.head()"
   ]
  },
  {
   "cell_type": "code",
   "execution_count": 24,
   "metadata": {
    "colab": {
     "base_uri": "https://localhost:8080/"
    },
    "execution": {
     "iopub.execute_input": "2025-07-30T23:06:55.166747Z",
     "iopub.status.busy": "2025-07-30T23:06:55.165937Z",
     "iopub.status.idle": "2025-07-30T23:06:55.172515Z",
     "shell.execute_reply": "2025-07-30T23:06:55.171759Z",
     "shell.execute_reply.started": "2025-07-30T23:06:55.166709Z"
    },
    "id": "MzL2dsgXLb9_",
    "outputId": "5e8b1de0-f289-4678-8691-eceaee758f66"
   },
   "outputs": [],
   "source": [
    "# Label encoding na variável alvo\n",
    "dados_limpos['species'] = dados_limpos['species'].replace('Adelie', 0)\n",
    "dados_limpos['species'] = dados_limpos['species'].replace('Gentoo', 1)\n",
    "dados_limpos['species'] = dados_limpos['species'].replace('Chinstrap', 2)"
   ]
  },
  {
   "cell_type": "code",
   "execution_count": 25,
   "metadata": {
    "execution": {
     "iopub.execute_input": "2025-07-30T23:07:04.860509Z",
     "iopub.status.busy": "2025-07-30T23:07:04.859921Z",
     "iopub.status.idle": "2025-07-30T23:07:04.866866Z",
     "shell.execute_reply": "2025-07-30T23:07:04.866042Z",
     "shell.execute_reply.started": "2025-07-30T23:07:04.860485Z"
    }
   },
   "outputs": [],
   "source": [
    "# Shuffle (embaralhamento dos dados)\n",
    "dados_limpos = dados_limpos.sample(frac = 1).reset_index(drop = True)"
   ]
  },
  {
   "cell_type": "code",
   "execution_count": 26,
   "metadata": {
    "execution": {
     "iopub.execute_input": "2025-07-30T23:07:07.492076Z",
     "iopub.status.busy": "2025-07-30T23:07:07.491452Z",
     "iopub.status.idle": "2025-07-30T23:07:07.504216Z",
     "shell.execute_reply": "2025-07-30T23:07:07.503378Z",
     "shell.execute_reply.started": "2025-07-30T23:07:07.492047Z"
    }
   },
   "outputs": [
    {
     "data": {
      "text/html": [
       "<div>\n",
       "<style scoped>\n",
       "    .dataframe tbody tr th:only-of-type {\n",
       "        vertical-align: middle;\n",
       "    }\n",
       "\n",
       "    .dataframe tbody tr th {\n",
       "        vertical-align: top;\n",
       "    }\n",
       "\n",
       "    .dataframe thead th {\n",
       "        text-align: right;\n",
       "    }\n",
       "</style>\n",
       "<table border=\"1\" class=\"dataframe\">\n",
       "  <thead>\n",
       "    <tr style=\"text-align: right;\">\n",
       "      <th></th>\n",
       "      <th>species</th>\n",
       "      <th>bill_length_mm</th>\n",
       "      <th>bill_depth_mm</th>\n",
       "      <th>flipper_length_mm</th>\n",
       "      <th>body_mass_g</th>\n",
       "    </tr>\n",
       "  </thead>\n",
       "  <tbody>\n",
       "    <tr>\n",
       "      <th>206</th>\n",
       "      <td>0</td>\n",
       "      <td>41.1</td>\n",
       "      <td>18.6</td>\n",
       "      <td>189.0</td>\n",
       "      <td>3325.0</td>\n",
       "    </tr>\n",
       "    <tr>\n",
       "      <th>89</th>\n",
       "      <td>1</td>\n",
       "      <td>47.2</td>\n",
       "      <td>15.5</td>\n",
       "      <td>215.0</td>\n",
       "      <td>4975.0</td>\n",
       "    </tr>\n",
       "    <tr>\n",
       "      <th>186</th>\n",
       "      <td>0</td>\n",
       "      <td>40.6</td>\n",
       "      <td>18.8</td>\n",
       "      <td>193.0</td>\n",
       "      <td>3800.0</td>\n",
       "    </tr>\n",
       "    <tr>\n",
       "      <th>74</th>\n",
       "      <td>0</td>\n",
       "      <td>40.8</td>\n",
       "      <td>18.9</td>\n",
       "      <td>208.0</td>\n",
       "      <td>4300.0</td>\n",
       "    </tr>\n",
       "    <tr>\n",
       "      <th>151</th>\n",
       "      <td>1</td>\n",
       "      <td>46.7</td>\n",
       "      <td>15.3</td>\n",
       "      <td>219.0</td>\n",
       "      <td>5200.0</td>\n",
       "    </tr>\n",
       "    <tr>\n",
       "      <th>28</th>\n",
       "      <td>1</td>\n",
       "      <td>45.0</td>\n",
       "      <td>15.4</td>\n",
       "      <td>220.0</td>\n",
       "      <td>5050.0</td>\n",
       "    </tr>\n",
       "    <tr>\n",
       "      <th>7</th>\n",
       "      <td>1</td>\n",
       "      <td>49.1</td>\n",
       "      <td>14.8</td>\n",
       "      <td>220.0</td>\n",
       "      <td>5150.0</td>\n",
       "    </tr>\n",
       "    <tr>\n",
       "      <th>24</th>\n",
       "      <td>0</td>\n",
       "      <td>43.2</td>\n",
       "      <td>18.5</td>\n",
       "      <td>192.0</td>\n",
       "      <td>4100.0</td>\n",
       "    </tr>\n",
       "    <tr>\n",
       "      <th>187</th>\n",
       "      <td>2</td>\n",
       "      <td>49.8</td>\n",
       "      <td>17.3</td>\n",
       "      <td>198.0</td>\n",
       "      <td>3675.0</td>\n",
       "    </tr>\n",
       "    <tr>\n",
       "      <th>34</th>\n",
       "      <td>2</td>\n",
       "      <td>40.9</td>\n",
       "      <td>16.6</td>\n",
       "      <td>187.0</td>\n",
       "      <td>3200.0</td>\n",
       "    </tr>\n",
       "  </tbody>\n",
       "</table>\n",
       "</div>"
      ],
      "text/plain": [
       "     species  bill_length_mm  bill_depth_mm  flipper_length_mm  body_mass_g\n",
       "206        0            41.1           18.6              189.0       3325.0\n",
       "89         1            47.2           15.5              215.0       4975.0\n",
       "186        0            40.6           18.8              193.0       3800.0\n",
       "74         0            40.8           18.9              208.0       4300.0\n",
       "151        1            46.7           15.3              219.0       5200.0\n",
       "28         1            45.0           15.4              220.0       5050.0\n",
       "7          1            49.1           14.8              220.0       5150.0\n",
       "24         0            43.2           18.5              192.0       4100.0\n",
       "187        2            49.8           17.3              198.0       3675.0\n",
       "34         2            40.9           16.6              187.0       3200.0"
      ]
     },
     "execution_count": 26,
     "metadata": {},
     "output_type": "execute_result"
    }
   ],
   "source": [
    "dados_limpos.sample(10)"
   ]
  },
  {
   "cell_type": "markdown",
   "metadata": {},
   "source": [
    "## Divisão dos Dados em Treino e Teste e Armazenamento no S3"
   ]
  },
  {
   "cell_type": "code",
   "execution_count": 27,
   "metadata": {
    "execution": {
     "iopub.execute_input": "2025-07-30T23:09:58.329438Z",
     "iopub.status.busy": "2025-07-30T23:09:58.328325Z",
     "iopub.status.idle": "2025-07-30T23:09:58.333387Z",
     "shell.execute_reply": "2025-07-30T23:09:58.332565Z",
     "shell.execute_reply.started": "2025-07-30T23:09:58.329405Z"
    },
    "id": "SLclocb8PZYl"
   },
   "outputs": [],
   "source": [
    "# Garante que somente as colunas do shape do dataframe serão usadas \n",
    "dados_limpos.columns = range(dados_limpos.shape[1])"
   ]
  },
  {
   "cell_type": "code",
   "execution_count": 28,
   "metadata": {
    "execution": {
     "iopub.execute_input": "2025-07-30T23:10:00.137698Z",
     "iopub.status.busy": "2025-07-30T23:10:00.135083Z",
     "iopub.status.idle": "2025-07-30T23:10:00.179698Z",
     "shell.execute_reply": "2025-07-30T23:10:00.172333Z",
     "shell.execute_reply.started": "2025-07-30T23:10:00.137656Z"
    }
   },
   "outputs": [
    {
     "data": {
      "text/html": [
       "<div>\n",
       "<style scoped>\n",
       "    .dataframe tbody tr th:only-of-type {\n",
       "        vertical-align: middle;\n",
       "    }\n",
       "\n",
       "    .dataframe tbody tr th {\n",
       "        vertical-align: top;\n",
       "    }\n",
       "\n",
       "    .dataframe thead th {\n",
       "        text-align: right;\n",
       "    }\n",
       "</style>\n",
       "<table border=\"1\" class=\"dataframe\">\n",
       "  <thead>\n",
       "    <tr style=\"text-align: right;\">\n",
       "      <th></th>\n",
       "      <th>0</th>\n",
       "      <th>1</th>\n",
       "      <th>2</th>\n",
       "      <th>3</th>\n",
       "      <th>4</th>\n",
       "    </tr>\n",
       "  </thead>\n",
       "  <tbody>\n",
       "    <tr>\n",
       "      <th>138</th>\n",
       "      <td>2</td>\n",
       "      <td>50.5</td>\n",
       "      <td>19.6</td>\n",
       "      <td>201.0</td>\n",
       "      <td>4050.0</td>\n",
       "    </tr>\n",
       "    <tr>\n",
       "      <th>232</th>\n",
       "      <td>0</td>\n",
       "      <td>41.3</td>\n",
       "      <td>20.3</td>\n",
       "      <td>194.0</td>\n",
       "      <td>3550.0</td>\n",
       "    </tr>\n",
       "    <tr>\n",
       "      <th>166</th>\n",
       "      <td>0</td>\n",
       "      <td>38.1</td>\n",
       "      <td>18.6</td>\n",
       "      <td>190.0</td>\n",
       "      <td>3700.0</td>\n",
       "    </tr>\n",
       "    <tr>\n",
       "      <th>42</th>\n",
       "      <td>2</td>\n",
       "      <td>51.0</td>\n",
       "      <td>18.8</td>\n",
       "      <td>203.0</td>\n",
       "      <td>4100.0</td>\n",
       "    </tr>\n",
       "    <tr>\n",
       "      <th>334</th>\n",
       "      <td>0</td>\n",
       "      <td>39.7</td>\n",
       "      <td>17.7</td>\n",
       "      <td>193.0</td>\n",
       "      <td>3200.0</td>\n",
       "    </tr>\n",
       "  </tbody>\n",
       "</table>\n",
       "</div>"
      ],
      "text/plain": [
       "     0     1     2      3       4\n",
       "138  2  50.5  19.6  201.0  4050.0\n",
       "232  0  41.3  20.3  194.0  3550.0\n",
       "166  0  38.1  18.6  190.0  3700.0\n",
       "42   2  51.0  18.8  203.0  4100.0\n",
       "334  0  39.7  17.7  193.0  3200.0"
      ]
     },
     "execution_count": 28,
     "metadata": {},
     "output_type": "execute_result"
    }
   ],
   "source": [
    "dados_limpos.sample(5)"
   ]
  },
  {
   "cell_type": "code",
   "execution_count": 29,
   "metadata": {
    "execution": {
     "iopub.execute_input": "2025-07-30T23:10:06.046429Z",
     "iopub.status.busy": "2025-07-30T23:10:06.046062Z",
     "iopub.status.idle": "2025-07-30T23:10:06.051740Z",
     "shell.execute_reply": "2025-07-30T23:10:06.051067Z",
     "shell.execute_reply.started": "2025-07-30T23:10:06.046408Z"
    }
   },
   "outputs": [],
   "source": [
    "# Divisão em treino e validação com proporção 80/20\n",
    "pinguins_dados_treino, pinguins_dados_valid = train_test_split(dados_limpos, test_size = 0.2, random_state = 42)"
   ]
  },
  {
   "cell_type": "code",
   "execution_count": 30,
   "metadata": {
    "execution": {
     "iopub.execute_input": "2025-07-30T23:10:11.251137Z",
     "iopub.status.busy": "2025-07-30T23:10:11.250491Z",
     "iopub.status.idle": "2025-07-30T23:10:11.255178Z",
     "shell.execute_reply": "2025-07-30T23:10:11.254454Z",
     "shell.execute_reply.started": "2025-07-30T23:10:11.251108Z"
    }
   },
   "outputs": [
    {
     "data": {
      "text/plain": [
       "(273, 5)"
      ]
     },
     "execution_count": 30,
     "metadata": {},
     "output_type": "execute_result"
    }
   ],
   "source": [
    "pinguins_dados_treino.shape"
   ]
  },
  {
   "cell_type": "code",
   "execution_count": 31,
   "metadata": {
    "execution": {
     "iopub.execute_input": "2025-07-30T23:10:13.648251Z",
     "iopub.status.busy": "2025-07-30T23:10:13.647699Z",
     "iopub.status.idle": "2025-07-30T23:10:13.652305Z",
     "shell.execute_reply": "2025-07-30T23:10:13.651523Z",
     "shell.execute_reply.started": "2025-07-30T23:10:13.648227Z"
    }
   },
   "outputs": [
    {
     "data": {
      "text/plain": [
       "(69, 5)"
      ]
     },
     "execution_count": 31,
     "metadata": {},
     "output_type": "execute_result"
    }
   ],
   "source": [
    "pinguins_dados_valid.shape"
   ]
  },
  {
   "cell_type": "code",
   "execution_count": 32,
   "metadata": {
    "execution": {
     "iopub.execute_input": "2025-07-30T23:11:35.206530Z",
     "iopub.status.busy": "2025-07-30T23:11:35.205918Z",
     "iopub.status.idle": "2025-07-30T23:11:35.209577Z",
     "shell.execute_reply": "2025-07-30T23:11:35.208733Z",
     "shell.execute_reply.started": "2025-07-30T23:11:35.206505Z"
    }
   },
   "outputs": [],
   "source": [
    "# Nome do bucket S3\n",
    "bucket_name = 'pinguins-890582101704'"
   ]
  },
  {
   "cell_type": "code",
   "execution_count": 34,
   "metadata": {
    "execution": {
     "iopub.execute_input": "2025-07-30T23:18:58.656744Z",
     "iopub.status.busy": "2025-07-30T23:18:58.656376Z",
     "iopub.status.idle": "2025-07-30T23:18:58.807858Z",
     "shell.execute_reply": "2025-07-30T23:18:58.807174Z",
     "shell.execute_reply.started": "2025-07-30T23:18:58.656722Z"
    }
   },
   "outputs": [],
   "source": [
    "# Salvando e enviando o arquivo de treino\n",
    "pinguins_dados_treino.to_csv('dados_treino.csv', header = False, index = False)\n",
    "key = 'pinguins/treino/dados_treino'\n",
    "url = 's3://{}/{}'.format(bucket_name, key)\n",
    "boto3.Session().resource('s3').Bucket(bucket_name).Object(key).upload_file('dados_treino.csv')"
   ]
  },
  {
   "cell_type": "code",
   "execution_count": 35,
   "metadata": {
    "execution": {
     "iopub.execute_input": "2025-07-30T23:22:46.811213Z",
     "iopub.status.busy": "2025-07-30T23:22:46.810930Z",
     "iopub.status.idle": "2025-07-30T23:22:46.992855Z",
     "shell.execute_reply": "2025-07-30T23:22:46.992201Z",
     "shell.execute_reply.started": "2025-07-30T23:22:46.811193Z"
    }
   },
   "outputs": [],
   "source": [
    "# Salvando e enviando o arquivo de validação\n",
    "pinguins_dados_valid.to_csv('dados_valid.csv', header = False, index = False)\n",
    "key = 'pinguins/val/dados_valid'\n",
    "url = 's3://{}/{}'.format(bucket_name, key)\n",
    "boto3.Session().resource('s3').Bucket(bucket_name).Object(key).upload_file('dados_valid.csv')"
   ]
  },
  {
   "cell_type": "markdown",
   "metadata": {
    "id": "Ll90d39jKtWR"
   },
   "source": [
    "## Construção do Modelo"
   ]
  },
  {
   "cell_type": "code",
   "execution_count": 36,
   "metadata": {
    "execution": {
     "iopub.execute_input": "2025-07-30T23:32:12.827611Z",
     "iopub.status.busy": "2025-07-30T23:32:12.826934Z",
     "iopub.status.idle": "2025-07-30T23:32:12.830777Z",
     "shell.execute_reply": "2025-07-30T23:32:12.830051Z",
     "shell.execute_reply.started": "2025-07-30T23:32:12.827580Z"
    }
   },
   "outputs": [],
   "source": [
    "# Nome do bucket S3\n",
    "bucket_name = 'pinguins-890582101704'"
   ]
  },
  {
   "cell_type": "code",
   "execution_count": 37,
   "metadata": {
    "execution": {
     "iopub.execute_input": "2025-07-30T23:32:16.532305Z",
     "iopub.status.busy": "2025-07-30T23:32:16.532027Z",
     "iopub.status.idle": "2025-07-30T23:32:16.535637Z",
     "shell.execute_reply": "2025-07-30T23:32:16.534870Z",
     "shell.execute_reply.started": "2025-07-30T23:32:16.532285Z"
    }
   },
   "outputs": [],
   "source": [
    "# Nome para salvar o modelo\n",
    "key = 'pinguins_model/xgbmodel'"
   ]
  },
  {
   "cell_type": "code",
   "execution_count": 38,
   "metadata": {
    "execution": {
     "iopub.execute_input": "2025-07-30T23:32:20.062817Z",
     "iopub.status.busy": "2025-07-30T23:32:20.062208Z",
     "iopub.status.idle": "2025-07-30T23:32:20.066231Z",
     "shell.execute_reply": "2025-07-30T23:32:20.065234Z",
     "shell.execute_reply.started": "2025-07-30T23:32:20.062790Z"
    }
   },
   "outputs": [],
   "source": [
    "# Local no S3 para salvar o modelo\n",
    "s3_output_location = f's3://{bucket_name}/{key}'"
   ]
  },
  {
   "cell_type": "code",
   "execution_count": 40,
   "metadata": {
    "execution": {
     "iopub.execute_input": "2025-07-30T23:43:38.852407Z",
     "iopub.status.busy": "2025-07-30T23:43:38.851770Z",
     "iopub.status.idle": "2025-07-30T23:43:38.875228Z",
     "shell.execute_reply": "2025-07-30T23:43:38.874586Z",
     "shell.execute_reply.started": "2025-07-30T23:43:38.852377Z"
    }
   },
   "outputs": [],
   "source": [
    "# Define a URI da imagem do modelo XGBoost no SageMaker\n",
    "image_uri = sagemaker.image_uris.retrieve(\"xgboost\", aws_region, version = \"1.5-1\")"
   ]
  },
  {
   "cell_type": "code",
   "execution_count": 41,
   "metadata": {
    "execution": {
     "iopub.execute_input": "2025-07-30T23:43:41.749497Z",
     "iopub.status.busy": "2025-07-30T23:43:41.749213Z",
     "iopub.status.idle": "2025-07-30T23:43:41.794571Z",
     "shell.execute_reply": "2025-07-30T23:43:41.793966Z",
     "shell.execute_reply.started": "2025-07-30T23:43:41.749477Z"
    }
   },
   "outputs": [],
   "source": [
    "# Cria o estimador XGBoost\n",
    "pinguins_xgbmodel = sagemaker.estimator.Estimator(image_uri = image_uri,\n",
    "                                             role = aws_role,\n",
    "                                             instance_count = 1,\n",
    "                                             instance_type = 'ml.m4.xlarge',\n",
    "                                             volume_size = 5,\n",
    "                                             output_path = s3_output_location,\n",
    "                                             sagemaker_session = aws_session)"
   ]
  },
  {
   "cell_type": "code",
   "execution_count": 42,
   "metadata": {
    "execution": {
     "iopub.execute_input": "2025-07-30T23:43:46.935911Z",
     "iopub.status.busy": "2025-07-30T23:43:46.935248Z",
     "iopub.status.idle": "2025-07-30T23:43:46.938899Z",
     "shell.execute_reply": "2025-07-30T23:43:46.938349Z",
     "shell.execute_reply.started": "2025-07-30T23:43:46.935883Z"
    },
    "id": "rFOsNbeKK39a"
   },
   "outputs": [],
   "source": [
    "# Configura os hiperparâmetros\n",
    "pinguins_xgbmodel.set_hyperparameters(max_depth = 5,\n",
    "                                 gamma = 4,\n",
    "                                 min_child_weight = 6,\n",
    "                                 objective = 'multi:softmax',\n",
    "                                 num_class = 3,\n",
    "                                 num_round = 8)"
   ]
  },
  {
   "cell_type": "markdown",
   "metadata": {},
   "source": [
    "Descrição dos hiperparâmetros configurados no modelo pinguins_xgbmodel para o algoritmo XGBoost:\n",
    "\n",
    "**max_depth (5)**: Define a profundidade máxima de cada árvore de decisão no modelo. Controla a complexidade do modelo, evitando que ele se torne excessivamente complexo e, portanto, sujeito a overfitting. Um valor de 5 permite que cada árvore tenha até 5 níveis de profundidade.\n",
    "\n",
    "**gamma (4)**: Representa o valor mínimo de redução na função de perda para que uma nova divisão em uma árvore seja feita. Um valor maior torna o modelo mais conservador, pois exige maior melhora na função objetivo para criar novas divisões.\n",
    "\n",
    "**min_child_weight (6)**: Especifica o peso mínimo de somatório de instâncias em um nó filho para que ele seja subdividido. Este parâmetro ajuda a controlar o underfitting. Um valor maior exige que cada nó tenha mais instâncias, resultando em árvores mais simples.\n",
    "\n",
    "**objective ('multi:softmax')**: Define a função objetivo para o modelo. Aqui, foi configurado como multi:softmax, que é usado para problemas de classificação multiclasse. Ele gera como saída a classe prevista diretamente, em vez de probabilidades.\n",
    "\n",
    "**num_class (3)**: Indica o número de classes distintas no problema de classificação. Nesse caso, o modelo está configurado para lidar com 3 classes diferentes.\n",
    "**num_round (8)**: Refere-se ao número de iterações ou rodadas de boosting. Cada rodada adiciona uma nova árvore ao ensemble para melhorar as previsões do modelo. Com 8 rodadas, o modelo será atualizado iterativamente até esse limite."
   ]
  },
  {
   "cell_type": "markdown",
   "metadata": {
    "id": "MbUNPR1LKwvn"
   },
   "source": [
    "## Treinamento do Modelo"
   ]
  },
  {
   "cell_type": "code",
   "execution_count": 43,
   "metadata": {
    "execution": {
     "iopub.execute_input": "2025-07-30T23:48:50.207207Z",
     "iopub.status.busy": "2025-07-30T23:48:50.206547Z",
     "iopub.status.idle": "2025-07-30T23:48:50.211807Z",
     "shell.execute_reply": "2025-07-30T23:48:50.210895Z",
     "shell.execute_reply.started": "2025-07-30T23:48:50.207178Z"
    }
   },
   "outputs": [],
   "source": [
    "# Define o caminho para os dados\n",
    "dados_treino_pinguins = 's3://{}/{}'.format(bucket_name, 'pinguins/treino/dados_treino')\n",
    "dados_valid_pinguins = 's3://{}/{}'.format(bucket_name, 'pinguins/val/dados_val')"
   ]
  },
  {
   "cell_type": "code",
   "execution_count": 44,
   "metadata": {
    "execution": {
     "iopub.execute_input": "2025-07-30T23:48:52.058789Z",
     "iopub.status.busy": "2025-07-30T23:48:52.058397Z",
     "iopub.status.idle": "2025-07-30T23:48:52.064031Z",
     "shell.execute_reply": "2025-07-30T23:48:52.063147Z",
     "shell.execute_reply.started": "2025-07-30T23:48:52.058763Z"
    }
   },
   "outputs": [
    {
     "data": {
      "text/plain": [
       "'s3://pinguins-890582101704/pinguins/treino/dados_treino'"
      ]
     },
     "execution_count": 44,
     "metadata": {},
     "output_type": "execute_result"
    }
   ],
   "source": [
    "dados_treino_pinguins"
   ]
  },
  {
   "cell_type": "code",
   "execution_count": 45,
   "metadata": {
    "execution": {
     "iopub.execute_input": "2025-07-30T23:48:53.357629Z",
     "iopub.status.busy": "2025-07-30T23:48:53.356787Z",
     "iopub.status.idle": "2025-07-30T23:48:53.361742Z",
     "shell.execute_reply": "2025-07-30T23:48:53.361097Z",
     "shell.execute_reply.started": "2025-07-30T23:48:53.357603Z"
    }
   },
   "outputs": [
    {
     "data": {
      "text/plain": [
       "'s3://pinguins-890582101704/pinguins/val/dados_val'"
      ]
     },
     "execution_count": 45,
     "metadata": {},
     "output_type": "execute_result"
    }
   ],
   "source": [
    "dados_valid_pinguins"
   ]
  },
  {
   "cell_type": "code",
   "execution_count": 46,
   "metadata": {
    "execution": {
     "iopub.execute_input": "2025-07-30T23:48:58.031135Z",
     "iopub.status.busy": "2025-07-30T23:48:58.030478Z",
     "iopub.status.idle": "2025-07-30T23:48:58.034452Z",
     "shell.execute_reply": "2025-07-30T23:48:58.033656Z",
     "shell.execute_reply.started": "2025-07-30T23:48:58.031105Z"
    }
   },
   "outputs": [],
   "source": [
    "# Cria os inputs\n",
    "input_treino = TrainingInput(s3_data = dados_treino_pinguins, content_type = 'text/csv')\n",
    "input_val = TrainingInput(s3_data = dados_valid_pinguins, content_type = 'text/csv')"
   ]
  },
  {
   "cell_type": "code",
   "execution_count": 47,
   "metadata": {
    "execution": {
     "iopub.execute_input": "2025-07-30T23:49:00.904746Z",
     "iopub.status.busy": "2025-07-30T23:49:00.904481Z",
     "iopub.status.idle": "2025-07-30T23:49:00.907833Z",
     "shell.execute_reply": "2025-07-30T23:49:00.907111Z",
     "shell.execute_reply.started": "2025-07-30T23:49:00.904725Z"
    },
    "id": "IexiQsUHK4lw"
   },
   "outputs": [],
   "source": [
    "# Define os canais para os dados\n",
    "canais_dados = {'train': input_treino, 'validation': input_val}"
   ]
  },
  {
   "cell_type": "code",
   "execution_count": 48,
   "metadata": {
    "execution": {
     "iopub.execute_input": "2025-07-30T23:49:04.147213Z",
     "iopub.status.busy": "2025-07-30T23:49:04.146839Z",
     "iopub.status.idle": "2025-07-30T23:52:21.393739Z",
     "shell.execute_reply": "2025-07-30T23:52:21.392817Z",
     "shell.execute_reply.started": "2025-07-30T23:49:04.147190Z"
    }
   },
   "outputs": [
    {
     "name": "stderr",
     "output_type": "stream",
     "text": [
      "INFO:sagemaker:Creating training-job with name: sagemaker-xgboost-2025-07-30-23-49-04-149\n"
     ]
    },
    {
     "name": "stdout",
     "output_type": "stream",
     "text": [
      "2025-07-30 23:49:05 Starting - Starting the training job...\n",
      "2025-07-30 23:49:18 Starting - Preparing the instances for training...\n",
      "2025-07-30 23:49:44 Downloading - Downloading input data...\n",
      "2025-07-30 23:50:14 Downloading - Downloading the training image...\n",
      "2025-07-30 23:51:09 Training - Training image download completed. Training in progress....\n",
      "2025-07-30 23:51:30 Uploading - Uploading generated training model\u001b[34m/miniconda3/lib/python3.8/site-packages/xgboost/compat.py:36: FutureWarning: pandas.Int64Index is deprecated and will be removed from pandas in a future version. Use pandas.Index with the appropriate dtype instead.\n",
      "  from pandas import MultiIndex, Int64Index\u001b[0m\n",
      "\u001b[34m[2025-07-30 23:51:25.597 ip-10-0-157-84.us-east-2.compute.internal:7 INFO utils.py:28] RULE_JOB_STOP_SIGNAL_FILENAME: None\u001b[0m\n",
      "\u001b[34m[2025-07-30 23:51:25.620 ip-10-0-157-84.us-east-2.compute.internal:7 INFO profiler_config_parser.py:111] User has disabled profiler.\u001b[0m\n",
      "\u001b[34m[2025-07-30:23:51:25:INFO] Imported framework sagemaker_xgboost_container.training\u001b[0m\n",
      "\u001b[34m[2025-07-30:23:51:25:INFO] Failed to parse hyperparameter objective value multi:softmax to Json.\u001b[0m\n",
      "\u001b[34mReturning the value itself\u001b[0m\n",
      "\u001b[34m[2025-07-30:23:51:25:INFO] No GPUs detected (normal if no gpus installed)\u001b[0m\n",
      "\u001b[34m[2025-07-30:23:51:26:INFO] Running XGBoost Sagemaker in algorithm mode\u001b[0m\n",
      "\u001b[34m[2025-07-30:23:51:26:INFO] Determined 0 GPU(s) available on the instance.\u001b[0m\n",
      "\u001b[34m[2025-07-30:23:51:26:INFO] Determined delimiter of CSV input is ','\u001b[0m\n",
      "\u001b[34m[2025-07-30:23:51:26:INFO] Determined delimiter of CSV input is ','\u001b[0m\n",
      "\u001b[34m[2025-07-30:23:51:26:INFO] files path: /opt/ml/input/data/train\u001b[0m\n",
      "\u001b[34m[2025-07-30:23:51:26:INFO] Determined delimiter of CSV input is ','\u001b[0m\n",
      "\u001b[34m[2025-07-30:23:51:26:INFO] files path: /opt/ml/input/data/validation\u001b[0m\n",
      "\u001b[34m[2025-07-30:23:51:26:INFO] Determined delimiter of CSV input is ','\u001b[0m\n",
      "\u001b[34m[2025-07-30:23:51:26:INFO] Single node training.\u001b[0m\n",
      "\u001b[34m[2025-07-30:23:51:26:INFO] Train matrix has 273 rows and 4 columns\u001b[0m\n",
      "\u001b[34m[2025-07-30:23:51:26:INFO] Validation matrix has 69 rows\u001b[0m\n",
      "\u001b[34m[2025-07-30 23:51:26.044 ip-10-0-157-84.us-east-2.compute.internal:7 INFO json_config.py:92] Creating hook from json_config at /opt/ml/input/config/debughookconfig.json.\u001b[0m\n",
      "\u001b[34m[2025-07-30 23:51:26.045 ip-10-0-157-84.us-east-2.compute.internal:7 INFO hook.py:206] tensorboard_dir has not been set for the hook. SMDebug will not be exporting tensorboard summaries.\u001b[0m\n",
      "\u001b[34m[2025-07-30 23:51:26.046 ip-10-0-157-84.us-east-2.compute.internal:7 INFO hook.py:259] Saving to /opt/ml/output/tensors\u001b[0m\n",
      "\u001b[34m[2025-07-30 23:51:26.046 ip-10-0-157-84.us-east-2.compute.internal:7 INFO state_store.py:77] The checkpoint config file /opt/ml/input/config/checkpointconfig.json does not exist.\u001b[0m\n",
      "\u001b[34m[2025-07-30:23:51:26:INFO] Debug hook created from config\u001b[0m\n",
      "\u001b[34m[23:51:26] WARNING: ../src/learner.cc:1115: Starting in XGBoost 1.3.0, the default evaluation metric used with the objective 'multi:softmax' was changed from 'merror' to 'mlogloss'. Explicitly set eval_metric if you'd like to restore the old behavior.\u001b[0m\n",
      "\u001b[34m[2025-07-30 23:51:26.066 ip-10-0-157-84.us-east-2.compute.internal:7 INFO hook.py:427] Monitoring the collections: metrics\u001b[0m\n",
      "\u001b[34m[2025-07-30 23:51:26.070 ip-10-0-157-84.us-east-2.compute.internal:7 INFO hook.py:491] Hook is writing from the hook with pid: 7\u001b[0m\n",
      "\u001b[34m[0]#011train-mlogloss:0.76292#011validation-mlogloss:0.77324\u001b[0m\n",
      "\u001b[34m[1]#011train-mlogloss:0.55942#011validation-mlogloss:0.57296\u001b[0m\n",
      "\u001b[34m[2]#011train-mlogloss:0.42649#011validation-mlogloss:0.44406\u001b[0m\n",
      "\u001b[34m[3]#011train-mlogloss:0.34013#011validation-mlogloss:0.35241\u001b[0m\n",
      "\u001b[34m[4]#011train-mlogloss:0.27830#011validation-mlogloss:0.29143\u001b[0m\n",
      "\u001b[34m[5]#011train-mlogloss:0.23324#011validation-mlogloss:0.23833\u001b[0m\n",
      "\u001b[34m[6]#011train-mlogloss:0.19793#011validation-mlogloss:0.20338\u001b[0m\n",
      "\u001b[34m[7]#011train-mlogloss:0.17088#011validation-mlogloss:0.17924\u001b[0m\n",
      "\n",
      "2025-07-30 23:51:43 Completed - Training job completed\n",
      "Training seconds: 119\n",
      "Billable seconds: 119\n",
      "CPU times: user 665 ms, sys: 15.7 ms, total: 681 ms\n",
      "Wall time: 3min 17s\n"
     ]
    }
   ],
   "source": [
    "%%time\n",
    "\n",
    "pinguins_xgbmodel.fit(inputs = canais_dados)"
   ]
  },
  {
   "cell_type": "markdown",
   "metadata": {
    "id": "P2RbZvJJKz0m"
   },
   "source": [
    "## Deploy do Modelo com SageMaker"
   ]
  },
  {
   "cell_type": "code",
   "execution_count": 49,
   "metadata": {
    "execution": {
     "iopub.execute_input": "2025-07-30T23:57:07.171385Z",
     "iopub.status.busy": "2025-07-30T23:57:07.170723Z",
     "iopub.status.idle": "2025-07-31T00:00:39.234913Z",
     "shell.execute_reply": "2025-07-31T00:00:39.234132Z",
     "shell.execute_reply.started": "2025-07-30T23:57:07.171354Z"
    },
    "id": "tvKDTaKitaut"
   },
   "outputs": [
    {
     "name": "stderr",
     "output_type": "stream",
     "text": [
      "INFO:sagemaker:Creating model with name: sagemaker-xgboost-2025-07-30-23-57-07-172\n",
      "INFO:sagemaker:Creating endpoint-config with name sagemaker-xgboost-2025-07-30-23-57-07-172\n",
      "INFO:sagemaker:Creating endpoint with name sagemaker-xgboost-2025-07-30-23-57-07-172\n"
     ]
    },
    {
     "name": "stdout",
     "output_type": "stream",
     "text": [
      "------!CPU times: user 50.6 ms, sys: 12.8 ms, total: 63.4 ms\n",
      "Wall time: 3min 32s\n"
     ]
    }
   ],
   "source": [
    "%%time\n",
    "\n",
    "xgb_predictor = pinguins_xgbmodel.deploy(initial_instance_count = 1, instance_type = 'ml.m4.xlarge')"
   ]
  },
  {
   "cell_type": "markdown",
   "metadata": {},
   "source": [
    "Ao executar a linha acima, o modelo treinado (pinguins_xgbmodel) é implantado em um endpoint gerenciado pelo Amazon SageMaker para inferência em tempo real. Aqui está o que acontece:\n",
    "\n",
    "**Criação do Endpoint**: O SageMaker cria um endpoint RESTful onde o modelo ficará disponível para receber solicitações de previsão.\n",
    "\n",
    "**Configuração da Infraestrutura**: É provisionada uma instância do tipo ml.m4.xlarge para hospedar o modelo. Essa instância é dimensionada com base nos requisitos computacionais do modelo.\n",
    "\n",
    "**Inicialização do Modelo**: O modelo treinado é carregado na instância provisionada, junto com o ambiente necessário para sua execução, como o container do XGBoost.\n",
    "\n",
    "**Atribuição ao Objeto xgb_predictor**: O objeto xgb_predictor é criado e serve como uma interface para interagir com o endpoint. Ele permite enviar dados para predição e receber as respostas diretamente no ambiente de desenvolvimento.\n",
    "\n",
    "Este processo disponibiliza o modelo em um ambiente escalável e gerenciado, pronto para realizar inferências em tempo real a partir de requisições enviadas ao endpoint."
   ]
  },
  {
   "cell_type": "markdown",
   "metadata": {},
   "source": [
    "Agora vamos criar a API."
   ]
  },
  {
   "cell_type": "markdown",
   "metadata": {},
   "source": [
    "# Fim"
   ]
  }
 ],
 "metadata": {
  "colab": {
   "provenance": []
  },
  "kernelspec": {
   "display_name": "Python 3 (ipykernel)",
   "language": "python",
   "name": "python3"
  },
  "language_info": {
   "codemirror_mode": {
    "name": "ipython",
    "version": 3
   },
   "file_extension": ".py",
   "mimetype": "text/x-python",
   "name": "python",
   "nbconvert_exporter": "python",
   "pygments_lexer": "ipython3",
   "version": "3.12.9"
  }
 },
 "nbformat": 4,
 "nbformat_minor": 4
}
